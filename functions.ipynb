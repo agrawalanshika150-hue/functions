{
  "nbformat": 4,
  "nbformat_minor": 0,
  "metadata": {
    "colab": {
      "provenance": []
    },
    "kernelspec": {
      "name": "python3",
      "display_name": "Python 3"
    },
    "language_info": {
      "name": "python"
    }
  },
  "cells": [
    {
      "cell_type": "markdown",
      "source": [
        "# Functions\n",
        "\n",
        "\n"
      ],
      "metadata": {
        "id": "RyCof-LLa7rJ"
      }
    },
    {
      "cell_type": "markdown",
      "source": [
        "1. what is the function and program?\n",
        "   - function is the work.\n"
      ],
      "metadata": {
        "id": "hFqzeBjuetYX"
      }
    },
    {
      "cell_type": "code",
      "source": [
        "# question\n",
        "'''\n",
        "this is a answer\n",
        "'''\n",
        "\n"
      ],
      "metadata": {
        "id": "E_iz_FvjgEkq"
      },
      "execution_count": null,
      "outputs": []
    }
  ]
}